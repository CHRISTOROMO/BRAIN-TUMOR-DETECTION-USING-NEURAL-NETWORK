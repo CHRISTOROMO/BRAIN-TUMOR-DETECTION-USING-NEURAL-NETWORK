{
  "nbformat": 4,
  "nbformat_minor": 0,
  "metadata": {
    "colab": {
      "name": "Brain_Tumor_Classsification.ipynb",
      "provenance": [],
      "collapsed_sections": []
    },
    "kernelspec": {
      "name": "python3",
      "display_name": "Python 3"
    },
    "language_info": {
      "name": "python"
    }
  },
  "cells": [
    {
      "cell_type": "markdown",
      "source": [
        "# BRAIN TUMOR DETECTION"
      ],
      "metadata": {
        "id": "wPtzja_fDmLK"
      }
    },
    {
      "cell_type": "markdown",
      "source": [
        "## 1. Defining the Question"
      ],
      "metadata": {
        "id": "6jQEUxeIDtpR"
      }
    },
    {
      "cell_type": "markdown",
      "source": [
        "### a) Specifying the Question"
      ],
      "metadata": {
        "id": "KJjYeRQaDtk4"
      }
    },
    {
      "cell_type": "markdown",
      "source": [
        "To detect the presence or absence of brain tumors and accurately classify the type of detected tumor as either a meningioma, glioma or pituitary tumor"
      ],
      "metadata": {
        "id": "b_pE5PbhD0VX"
      }
    },
    {
      "cell_type": "markdown",
      "source": [
        "### b) Defining the Metric for Success"
      ],
      "metadata": {
        "id": "v83pQhBTECBD"
      }
    },
    {
      "cell_type": "markdown",
      "source": [
        "The model will be considered successful, if it can achieve an accuracy of 90% and above"
      ],
      "metadata": {
        "id": "9uIgfIzEEUUg"
      }
    },
    {
      "cell_type": "markdown",
      "source": [
        "### c) Understanding the context"
      ],
      "metadata": {
        "id": "_Eel838rEfsP"
      }
    },
    {
      "cell_type": "markdown",
      "source": [
        "Brain tumor is the growth of abnormal cells in the tissues of the brain. Brain tumors can be benign (non cancerous) or malignant (cancerous cells), National Cancer Institute. \n",
        " \n",
        "When a brain tumor grows large enough such that it presses on surrounding nerves, blood vessels and tissues, it can impair brain functionality whether it is cancerous or not. Only about one-third of brain tumors are cancerous.\n",
        "Tumors that develop in the brain are called primary tumors. Tumors that spread to the brain after forming in different parts of the body like breast, lung, prostate, large bowel (colon), kidney and skins are called secondary tumors or metastatic tumors. \n",
        " \n",
        "The most common type of primary tumor is the glioma tumor. About 33% of all brain tumors are gliomas. The tumor originates in the glial cells that surround and support neurons in the brain (Johns Hopkins). Meningiomas are also common, and form 30% of all brain tumors (Johns Hopkins). The tumor arises from the meninges, therefore, technically, it is not a brain tumor but is included in this category as it compresses the adjacent brain, nerves and blood vessels (Mayo Clinic). According to the National Cancer Institute, a majority of the tumors are benign. The final example of a primary tumor is a pituitary tumor. They are abnormal growths that develop in the pituitary gland. The tumor can cause over or underproduction of hormones that regulate important functions of the body. Most pituitary tumors are benign and do not spread to other parts of the body (Mayo Clinic). \n",
        " \n",
        "In Kenya, in the Global Burden of Diseases Study of 2016 published in the Lancet in 2019, it was estimated that 4.3 people in every 100,000 are diagnosed with brain tumors each year,  Nation Africa.\n",
        "With a population of 47.5 million at the last Kenyan census, that would give an approximate number of 2,200 people per year who get a new diagnosis of a brain tumor, or 42 people per week or 6 people per day.\n"
      ],
      "metadata": {
        "id": "EB3tFFX5Eosi"
      }
    },
    {
      "cell_type": "markdown",
      "source": [
        "### d). Recording the Experimental Design"
      ],
      "metadata": {
        "id": "pL8h7n6XEwUD"
      }
    },
    {
      "cell_type": "markdown",
      "source": [
        "- Data sourcing/loading\n",
        "- Data Understanding\n",
        "- Data Relevance\n",
        "- External Dataset Validation\n",
        "- Data Preparation\n",
        "- Descriptive analysis\n",
        "- Modeling: neural networks\n",
        "- Implementation of the solution"
      ],
      "metadata": {
        "id": "y2IuhCtzEx3O"
      }
    },
    {
      "cell_type": "markdown",
      "source": [
        "### e) Data Relevance"
      ],
      "metadata": {
        "id": "wB5LJD-KFRdX"
      }
    },
    {
      "cell_type": "markdown",
      "source": [
        "The dataset to use for this project can be found by following this link:\n",
        " https://www.kaggle.com/code/jaykumar1607/brain-tumor-mri-classification-tensorflow-cnn/data\n",
        "\n",
        "\n",
        "Assumptions\n",
        "\n",
        "We shall assume the data is accurate\n",
        "\n"
      ],
      "metadata": {
        "id": "W6o16y2YFYtc"
      }
    },
    {
      "cell_type": "markdown",
      "source": [
        "## 2. Reading the Data"
      ],
      "metadata": {
        "id": "HWly-xXUGLPH"
      }
    },
    {
      "cell_type": "markdown",
      "source": [
        ""
      ],
      "metadata": {
        "id": "ykv-DKhgGQu_"
      }
    },
    {
      "cell_type": "markdown",
      "source": [
        "## 3. Checking the Data"
      ],
      "metadata": {
        "id": "RJzMJ829GU8L"
      }
    },
    {
      "cell_type": "code",
      "execution_count": null,
      "metadata": {
        "id": "wigxK86G9PaR"
      },
      "outputs": [],
      "source": [
        ""
      ]
    },
    {
      "cell_type": "markdown",
      "source": [
        "## 4. Exploratory Data Analysis (EDA)"
      ],
      "metadata": {
        "id": "rn6JDlWWGY8_"
      }
    },
    {
      "cell_type": "code",
      "source": [
        ""
      ],
      "metadata": {
        "id": "l7kBLkisGnkh"
      },
      "execution_count": null,
      "outputs": []
    },
    {
      "cell_type": "markdown",
      "source": [
        "## 5. Implementing the Solution"
      ],
      "metadata": {
        "id": "G3KA5eY0GoU2"
      }
    },
    {
      "cell_type": "code",
      "source": [
        ""
      ],
      "metadata": {
        "id": "znAeJq42Gu4i"
      },
      "execution_count": null,
      "outputs": []
    }
  ]
}